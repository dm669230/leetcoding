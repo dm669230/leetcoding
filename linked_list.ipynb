{
 "cells": [
  {
   "cell_type": "code",
   "execution_count": 1,
   "metadata": {},
   "outputs": [],
   "source": [
    "class Node:\n",
    "    def __init__(self, value) :\n",
    "        self.data = value\n",
    "        self.next = None"
   ]
  },
  {
   "cell_type": "code",
   "execution_count": 2,
   "metadata": {},
   "outputs": [],
   "source": [
    "\n",
    "#linked_list memory allocation\n",
    "a = Node(1)\n",
    "b = Node(2)\n",
    "a.next = b\n",
    "c = Node(3)\n",
    "b.next = c\n"
   ]
  },
  {
   "cell_type": "code",
   "execution_count": 3,
   "metadata": {},
   "outputs": [
    {
     "name": "stdout",
     "output_type": "stream",
     "text": [
      "1\n",
      "2\n",
      "3\n",
      "<__main__.Node object at 0x0000026DFCE10950>\n",
      "<__main__.Node object at 0x0000026DFCE2D850>\n",
      "None\n"
     ]
    }
   ],
   "source": [
    "\n",
    "print(a.data)\n",
    "print(b.data)\n",
    "print(c.data)\n",
    "\n",
    "print(a.next)\n",
    "print(b.next)\n",
    "print(c.next)\n",
    "# ########find the id (address) of data\n",
    "# print(id(a))\n",
    "# print(id(b))\n",
    "# print(id(c))\n",
    "\n",
    "#arr memory allocation\n",
    "arr = [1,2,3]\n",
    "\n",
    "# print(id(arr[0]))\n",
    "# print(id(arr[1]))\n",
    "# print(id(arr[2]))"
   ]
  },
  {
   "cell_type": "code",
   "execution_count": 4,
   "metadata": {},
   "outputs": [
    {
     "data": {
      "text/plain": [
       "2117467339152"
      ]
     },
     "execution_count": 4,
     "metadata": {},
     "output_type": "execute_result"
    }
   ],
   "source": [
    "int(0x000001ED02E37990)"
   ]
  },
  {
   "cell_type": "code",
   "execution_count": 5,
   "metadata": {},
   "outputs": [],
   "source": [
    "class Node:\n",
    "    def __init__(self, value) :\n",
    "        self.data = value\n",
    "        self.next = None"
   ]
  },
  {
   "cell_type": "code",
   "execution_count": 6,
   "metadata": {},
   "outputs": [],
   "source": [
    "#1 - create empty linked list\n",
    "\n",
    "class LinkedList:\n",
    "    def __init__(self) :\n",
    "        self.head = None\n",
    "        self.n = 0\n",
    "\n",
    "    def __len__(self):\n",
    "        return self.n\n",
    "\n",
    "    def insert_head(self, value):\n",
    "        #new node\n",
    "        new_node = Node(value=value)\n",
    "\n",
    "        #create connection between nodes\n",
    "        new_node.next = self.head\n",
    "\n",
    "        #reassign head\n",
    "        self.head = new_node\n",
    "\n",
    "        #increment n or length of linked list\n",
    "        self.n =self.n +1\n",
    "    \n",
    "    def __str__(self):\n",
    "\n",
    "        #assigning initial head to the the new varriable curr\n",
    "        curr = self.head\n",
    "        \n",
    "        result = \"\"\n",
    "        #check in the loop curr head address till None\n",
    "        while curr != None:\n",
    "        #print curr head data and assign new curr address with curr.next address\n",
    "            result = result + str(curr.data) + \"->\"\n",
    "            curr = curr.next\n",
    "        return result[:-2]\n",
    "    \n",
    "    def append(self, value):\n",
    "        new_node = Node(value)\n",
    "        curr = self.head\n",
    "        while curr.next != None:\n",
    "            curr = curr.next\n",
    "\n",
    "        curr.next = new_node\n",
    "    \n",
    "    def insert_after_head(self, after, value):\n",
    "        new_node = Node(value=value)\n",
    "        curr = self.head\n",
    "\n",
    "        while curr != None:\n",
    "            if curr.data ==after:\n",
    "                break\n",
    "            curr = curr.next\n",
    "            if curr != None:\n",
    "                new_node.next = curr.next\n",
    "                curr.next = new_node\n",
    "                self.n = self.n+1\n",
    "            else:\n",
    "                return \"Item not found\"\n",
    "            \n",
    "    def clear(self):\n",
    "        self.head = None\n",
    "        self.n = 0\n",
    "\n",
    "    def delete_from_head(self):\n",
    "        if self.head == None:\n",
    "            return \"Empty LL\"\n",
    "        self.head = self.head.next\n",
    "\n",
    "\n",
    "\n",
    "\n",
    "\n",
    "\n",
    "\n",
    "\n",
    "L = LinkedList()\n",
    "\n"
   ]
  },
  {
   "cell_type": "code",
   "execution_count": 7,
   "metadata": {},
   "outputs": [
    {
     "data": {
      "text/plain": [
       "0.0"
      ]
     },
     "execution_count": 7,
     "metadata": {},
     "output_type": "execute_result"
    }
   ],
   "source": [
    "float(\"0\")"
   ]
  },
  {
   "cell_type": "code",
   "execution_count": 8,
   "metadata": {},
   "outputs": [],
   "source": [
    "L.insert_head(1)\n",
    "L.insert_head(2)\n",
    "L.insert_head(3)\n",
    "L.insert_head(4)"
   ]
  },
  {
   "cell_type": "code",
   "execution_count": 9,
   "metadata": {},
   "outputs": [
    {
     "name": "stdout",
     "output_type": "stream",
     "text": [
      "4->3->2->1->7\n"
     ]
    }
   ],
   "source": [
    "L.append(7)\n",
    "print(L)"
   ]
  },
  {
   "cell_type": "code",
   "execution_count": 10,
   "metadata": {},
   "outputs": [
    {
     "name": "stdout",
     "output_type": "stream",
     "text": [
      "4->3->2->1->7\n",
      "5\n"
     ]
    },
    {
     "data": {
      "text/plain": [
       "6"
      ]
     },
     "execution_count": 10,
     "metadata": {},
     "output_type": "execute_result"
    }
   ],
   "source": [
    "print(L)\n",
    "L.insert_head(1)\n",
    "print(len(L))\n",
    "L.insert_head(2)\n",
    "# print(L.head)\n",
    "len(L)"
   ]
  }
 ],
 "metadata": {
  "kernelspec": {
   "display_name": "Python 3",
   "language": "python",
   "name": "python3"
  },
  "language_info": {
   "codemirror_mode": {
    "name": "ipython",
    "version": 3
   },
   "file_extension": ".py",
   "mimetype": "text/x-python",
   "name": "python",
   "nbconvert_exporter": "python",
   "pygments_lexer": "ipython3",
   "version": "3.12.0"
  }
 },
 "nbformat": 4,
 "nbformat_minor": 2
}
